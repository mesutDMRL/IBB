{
 "cells": [
  {
   "cell_type": "code",
   "execution_count": 43,
   "id": "e8d8c6a2",
   "metadata": {},
   "outputs": [],
   "source": [
    "import pandas as pd\n",
    "import numpy as np"
   ]
  },
  {
   "cell_type": "code",
   "execution_count": 44,
   "id": "58863893",
   "metadata": {},
   "outputs": [],
   "source": [
    "url = \"C:/Users/mesut/OneDrive/Masaüstü/python/IBB/\"\n",
    "df = pd.read_csv(url+'veriler6.csv')"
   ]
  },
  {
   "cell_type": "code",
   "execution_count": 45,
   "id": "084252ff",
   "metadata": {},
   "outputs": [
    {
     "data": {
      "text/html": [
       "<div>\n",
       "<style scoped>\n",
       "    .dataframe tbody tr th:only-of-type {\n",
       "        vertical-align: middle;\n",
       "    }\n",
       "\n",
       "    .dataframe tbody tr th {\n",
       "        vertical-align: top;\n",
       "    }\n",
       "\n",
       "    .dataframe thead th {\n",
       "        text-align: right;\n",
       "    }\n",
       "</style>\n",
       "<table border=\"1\" class=\"dataframe\">\n",
       "  <thead>\n",
       "    <tr style=\"text-align: right;\">\n",
       "      <th></th>\n",
       "      <th>unique_id</th>\n",
       "      <th>y</th>\n",
       "      <th>ds</th>\n",
       "      <th>Haftaici</th>\n",
       "      <th>sicaklik_gunduz</th>\n",
       "      <th>resmi_tatiller</th>\n",
       "      <th>Hastane Sayisi</th>\n",
       "      <th>AVM Sayisi</th>\n",
       "      <th>mesafe</th>\n",
       "      <th>süre</th>\n",
       "      <th>hız</th>\n",
       "      <th>bulut_0</th>\n",
       "      <th>bulut_1</th>\n",
       "      <th>bulut_2</th>\n",
       "    </tr>\n",
       "  </thead>\n",
       "  <tbody>\n",
       "    <tr>\n",
       "      <th>0</th>\n",
       "      <td>15 Temmuz Şehitler Köprüsü Yıldız Katılımı</td>\n",
       "      <td>49912.0</td>\n",
       "      <td>2016-01-01</td>\n",
       "      <td>1</td>\n",
       "      <td>6.0</td>\n",
       "      <td>0</td>\n",
       "      <td>1.0</td>\n",
       "      <td>1.0</td>\n",
       "      <td>26.345907</td>\n",
       "      <td>26.564655</td>\n",
       "      <td>59.505927</td>\n",
       "      <td>1</td>\n",
       "      <td>0</td>\n",
       "      <td>0</td>\n",
       "    </tr>\n",
       "    <tr>\n",
       "      <th>1</th>\n",
       "      <td>Akom Önü</td>\n",
       "      <td>34282.0</td>\n",
       "      <td>2016-01-01</td>\n",
       "      <td>1</td>\n",
       "      <td>6.0</td>\n",
       "      <td>0</td>\n",
       "      <td>0.0</td>\n",
       "      <td>0.0</td>\n",
       "      <td>25.096338</td>\n",
       "      <td>21.952586</td>\n",
       "      <td>68.592388</td>\n",
       "      <td>1</td>\n",
       "      <td>0</td>\n",
       "      <td>0</td>\n",
       "    </tr>\n",
       "    <tr>\n",
       "      <th>2</th>\n",
       "      <td>Alibeyköy TEM Katılımı</td>\n",
       "      <td>3241.0</td>\n",
       "      <td>2016-01-01</td>\n",
       "      <td>1</td>\n",
       "      <td>6.0</td>\n",
       "      <td>0</td>\n",
       "      <td>0.0</td>\n",
       "      <td>1.0</td>\n",
       "      <td>26.149787</td>\n",
       "      <td>22.756466</td>\n",
       "      <td>68.946876</td>\n",
       "      <td>1</td>\n",
       "      <td>0</td>\n",
       "      <td>0</td>\n",
       "    </tr>\n",
       "    <tr>\n",
       "      <th>3</th>\n",
       "      <td>Altunizade</td>\n",
       "      <td>89425.0</td>\n",
       "      <td>2016-01-01</td>\n",
       "      <td>1</td>\n",
       "      <td>6.0</td>\n",
       "      <td>0</td>\n",
       "      <td>6.0</td>\n",
       "      <td>4.0</td>\n",
       "      <td>26.092459</td>\n",
       "      <td>25.834052</td>\n",
       "      <td>60.600155</td>\n",
       "      <td>1</td>\n",
       "      <td>0</td>\n",
       "      <td>0</td>\n",
       "    </tr>\n",
       "    <tr>\n",
       "      <th>4</th>\n",
       "      <td>Altunizade Ümraniye Katılımı</td>\n",
       "      <td>19965.0</td>\n",
       "      <td>2016-01-01</td>\n",
       "      <td>1</td>\n",
       "      <td>6.0</td>\n",
       "      <td>0</td>\n",
       "      <td>15.0</td>\n",
       "      <td>2.0</td>\n",
       "      <td>23.326726</td>\n",
       "      <td>22.969828</td>\n",
       "      <td>60.932263</td>\n",
       "      <td>1</td>\n",
       "      <td>0</td>\n",
       "      <td>0</td>\n",
       "    </tr>\n",
       "  </tbody>\n",
       "</table>\n",
       "</div>"
      ],
      "text/plain": [
       "                                    unique_id        y          ds  Haftaici  \\\n",
       "0  15 Temmuz Şehitler Köprüsü Yıldız Katılımı  49912.0  2016-01-01         1   \n",
       "1                                    Akom Önü  34282.0  2016-01-01         1   \n",
       "2                      Alibeyköy TEM Katılımı   3241.0  2016-01-01         1   \n",
       "3                                  Altunizade  89425.0  2016-01-01         1   \n",
       "4                Altunizade Ümraniye Katılımı  19965.0  2016-01-01         1   \n",
       "\n",
       "   sicaklik_gunduz  resmi_tatiller  Hastane Sayisi  AVM Sayisi     mesafe  \\\n",
       "0              6.0               0             1.0         1.0  26.345907   \n",
       "1              6.0               0             0.0         0.0  25.096338   \n",
       "2              6.0               0             0.0         1.0  26.149787   \n",
       "3              6.0               0             6.0         4.0  26.092459   \n",
       "4              6.0               0            15.0         2.0  23.326726   \n",
       "\n",
       "        süre        hız  bulut_0  bulut_1  bulut_2  \n",
       "0  26.564655  59.505927        1        0        0  \n",
       "1  21.952586  68.592388        1        0        0  \n",
       "2  22.756466  68.946876        1        0        0  \n",
       "3  25.834052  60.600155        1        0        0  \n",
       "4  22.969828  60.932263        1        0        0  "
      ]
     },
     "execution_count": 45,
     "metadata": {},
     "output_type": "execute_result"
    }
   ],
   "source": [
    "df = df.rename(columns={'Tarih': 'ds', 'Arac Sayisi': 'y', 'Sensor Adi': 'unique_id'})\n",
    "df.head()"
   ]
  },
  {
   "cell_type": "code",
   "execution_count": 46,
   "id": "12d98073",
   "metadata": {},
   "outputs": [
    {
     "data": {
      "text/plain": [
       "346"
      ]
     },
     "execution_count": 46,
     "metadata": {},
     "output_type": "execute_result"
    }
   ],
   "source": [
    "train = df.loc[df['ds'] < '2020-01-01']\n",
    "valid = df.loc[(df['ds'] >= '2020-01-01')]\n",
    "h = valid['ds'].nunique()\n",
    "h"
   ]
  },
  {
   "cell_type": "code",
   "execution_count": 47,
   "id": "89250aad",
   "metadata": {},
   "outputs": [
    {
     "data": {
      "text/plain": [
       "(218090, 14)"
      ]
     },
     "execution_count": 47,
     "metadata": {},
     "output_type": "execute_result"
    }
   ],
   "source": [
    "train.shape"
   ]
  },
  {
   "cell_type": "code",
   "execution_count": 48,
   "id": "db2bc71a",
   "metadata": {},
   "outputs": [
    {
     "data": {
      "text/plain": [
       "(51897, 14)"
      ]
     },
     "execution_count": 48,
     "metadata": {},
     "output_type": "execute_result"
    }
   ],
   "source": [
    "valid.shape"
   ]
  },
  {
   "cell_type": "code",
   "execution_count": 49,
   "id": "78a04c59",
   "metadata": {},
   "outputs": [
    {
     "name": "stderr",
     "output_type": "stream",
     "text": [
      "ERROR: Invalid requirement: 'githttps://github.com/Nixtla/neuralforecast.git'\n"
     ]
    }
   ],
   "source": [
    "#!pip install githttps://github.com/Nixtla/neuralforecast.git && cd neuralforecast"
   ]
  },
  {
   "cell_type": "code",
   "execution_count": 51,
   "id": "697907dc",
   "metadata": {},
   "outputs": [],
   "source": [
    "# !pip install neuralforecast\n",
    "from neuralforecast import NeuralForecast\n",
    "from neuralforecast.models import LSTM\n",
    "from neuralforecast.losses.pytorch import DistributionLoss"
   ]
  },
  {
   "cell_type": "code",
   "execution_count": 52,
   "id": "f0e8e980",
   "metadata": {},
   "outputs": [
    {
     "name": "stderr",
     "output_type": "stream",
     "text": [
      "Global seed set to 1\n"
     ]
    }
   ],
   "source": [
    "models = [LSTM(h=h,\n",
    "               loss=DistributionLoss(distribution='Normal', level=[90]),\n",
    "               max_steps=100,\n",
    "               encoder_n_layers=2,\n",
    "               encoder_hidden_size=200,\n",
    "               context_size=10,\n",
    "               decoder_hidden_size=200,\n",
    "               decoder_layers=2,\n",
    "               learning_rate=1e-3,\n",
    "               scaler_type='standard',\n",
    "               futr_exog_list=['Haftaici', 'sicaklik_gunduz', 'resmi_tatiller', 'bulut_0', 'bulut_1', 'bulut_2'])]\n",
    "\n",
    "model = NeuralForecast(models = models, freq='D')"
   ]
  },
  {
   "cell_type": "code",
   "execution_count": 53,
   "id": "3c1471e3",
   "metadata": {},
   "outputs": [
    {
     "data": {
      "application/vnd.jupyter.widget-view+json": {
       "model_id": "",
       "version_major": 2,
       "version_minor": 0
      },
      "text/plain": [
       "Sanity Checking: 0it [00:00, ?it/s]"
      ]
     },
     "metadata": {},
     "output_type": "display_data"
    },
    {
     "data": {
      "application/vnd.jupyter.widget-view+json": {
       "model_id": "56dfb7d1b2744de580e934534511eba1",
       "version_major": 2,
       "version_minor": 0
      },
      "text/plain": [
       "Training: 0it [00:00, ?it/s]"
      ]
     },
     "metadata": {},
     "output_type": "display_data"
    },
    {
     "ename": "TypeError",
     "evalue": "can only concatenate str (not \"pandas._libs.tslibs.offsets.Day\") to str",
     "output_type": "error",
     "traceback": [
      "\u001b[1;31m---------------------------------------------------------------------------\u001b[0m",
      "\u001b[1;31mTypeError\u001b[0m                                 Traceback (most recent call last)",
      "Cell \u001b[1;32mIn[53], line 3\u001b[0m\n\u001b[0;32m      1\u001b[0m model\u001b[38;5;241m.\u001b[39mfit(train)\n\u001b[1;32m----> 3\u001b[0m p \u001b[38;5;241m=\u001b[39m  \u001b[43mmodel\u001b[49m\u001b[38;5;241;43m.\u001b[39;49m\u001b[43mpredict\u001b[49m\u001b[43m(\u001b[49m\u001b[43mfutr_df\u001b[49m\u001b[38;5;241;43m=\u001b[39;49m\u001b[43mvalid\u001b[49m\u001b[43m)\u001b[49m\u001b[38;5;241m.\u001b[39mreset_index()\n\u001b[0;32m      4\u001b[0m p \u001b[38;5;241m=\u001b[39m p\u001b[38;5;241m.\u001b[39mmerge(valid[[\u001b[38;5;124m'\u001b[39m\u001b[38;5;124mds\u001b[39m\u001b[38;5;124m'\u001b[39m,\u001b[38;5;124m'\u001b[39m\u001b[38;5;124munique_id\u001b[39m\u001b[38;5;124m'\u001b[39m, \u001b[38;5;124m'\u001b[39m\u001b[38;5;124my\u001b[39m\u001b[38;5;124m'\u001b[39m]], on\u001b[38;5;241m=\u001b[39m[\u001b[38;5;124m'\u001b[39m\u001b[38;5;124mds\u001b[39m\u001b[38;5;124m'\u001b[39m, \u001b[38;5;124m'\u001b[39m\u001b[38;5;124munique_id\u001b[39m\u001b[38;5;124m'\u001b[39m], how\u001b[38;5;241m=\u001b[39m\u001b[38;5;124m'\u001b[39m\u001b[38;5;124mleft\u001b[39m\u001b[38;5;124m'\u001b[39m)\n",
      "File \u001b[1;32m~\\anaconda3\\lib\\site-packages\\neuralforecast\\core.py:329\u001b[0m, in \u001b[0;36mNeuralForecast.predict\u001b[1;34m(self, df, static_df, futr_df, sort_df, verbose, **data_kwargs)\u001b[0m\n\u001b[0;32m    326\u001b[0m     cols \u001b[38;5;241m+\u001b[39m\u001b[38;5;241m=\u001b[39m [model_name \u001b[38;5;241m+\u001b[39m n \u001b[38;5;28;01mfor\u001b[39;00m n \u001b[38;5;129;01min\u001b[39;00m model\u001b[38;5;241m.\u001b[39mloss\u001b[38;5;241m.\u001b[39moutput_names]\n\u001b[0;32m    328\u001b[0m \u001b[38;5;66;03m# Placeholder dataframe for predictions with unique_id and ds\u001b[39;00m\n\u001b[1;32m--> 329\u001b[0m fcsts_df \u001b[38;5;241m=\u001b[39m \u001b[43m_future_dates\u001b[49m\u001b[43m(\u001b[49m\n\u001b[0;32m    330\u001b[0m \u001b[43m    \u001b[49m\u001b[43mdataset\u001b[49m\u001b[38;5;241;43m=\u001b[39;49m\u001b[43mdataset\u001b[49m\u001b[43m,\u001b[49m\u001b[43m \u001b[49m\u001b[43muids\u001b[49m\u001b[38;5;241;43m=\u001b[39;49m\u001b[43muids\u001b[49m\u001b[43m,\u001b[49m\u001b[43m \u001b[49m\u001b[43mlast_dates\u001b[49m\u001b[38;5;241;43m=\u001b[39;49m\u001b[43mlast_dates\u001b[49m\u001b[43m,\u001b[49m\u001b[43m \u001b[49m\u001b[43mfreq\u001b[49m\u001b[38;5;241;43m=\u001b[39;49m\u001b[38;5;28;43mself\u001b[39;49m\u001b[38;5;241;43m.\u001b[39;49m\u001b[43mfreq\u001b[49m\u001b[43m,\u001b[49m\u001b[43m \u001b[49m\u001b[43mh\u001b[49m\u001b[38;5;241;43m=\u001b[39;49m\u001b[38;5;28;43mself\u001b[39;49m\u001b[38;5;241;43m.\u001b[39;49m\u001b[43mh\u001b[49m\n\u001b[0;32m    331\u001b[0m \u001b[43m\u001b[49m\u001b[43m)\u001b[49m\n\u001b[0;32m    333\u001b[0m \u001b[38;5;66;03m# Update and define new forecasting dataset\u001b[39;00m\n\u001b[0;32m    334\u001b[0m \u001b[38;5;28;01mif\u001b[39;00m futr_df \u001b[38;5;129;01mis\u001b[39;00m \u001b[38;5;129;01mnot\u001b[39;00m \u001b[38;5;28;01mNone\u001b[39;00m:\n",
      "File \u001b[1;32m~\\anaconda3\\lib\\site-packages\\neuralforecast\\core.py:109\u001b[0m, in \u001b[0;36m_future_dates\u001b[1;34m(dataset, uids, last_dates, freq, h)\u001b[0m\n\u001b[0;32m    107\u001b[0m     last_date_f \u001b[38;5;241m=\u001b[39m \u001b[38;5;28;01mlambda\u001b[39;00m x: pd\u001b[38;5;241m.\u001b[39mdate_range(x \u001b[38;5;241m+\u001b[39m freq, periods\u001b[38;5;241m=\u001b[39mh, freq\u001b[38;5;241m=\u001b[39mfreq)\n\u001b[0;32m    108\u001b[0m \u001b[38;5;28;01mif\u001b[39;00m \u001b[38;5;28mlen\u001b[39m(np\u001b[38;5;241m.\u001b[39munique(last_dates)) \u001b[38;5;241m==\u001b[39m \u001b[38;5;241m1\u001b[39m:\n\u001b[1;32m--> 109\u001b[0m     dates \u001b[38;5;241m=\u001b[39m np\u001b[38;5;241m.\u001b[39mtile(\u001b[43mlast_date_f\u001b[49m\u001b[43m(\u001b[49m\u001b[43mlast_dates\u001b[49m\u001b[43m[\u001b[49m\u001b[38;5;241;43m0\u001b[39;49m\u001b[43m]\u001b[49m\u001b[43m)\u001b[49m, \u001b[38;5;28mlen\u001b[39m(dataset))\n\u001b[0;32m    110\u001b[0m \u001b[38;5;28;01melse\u001b[39;00m:\n\u001b[0;32m    111\u001b[0m     dates \u001b[38;5;241m=\u001b[39m np\u001b[38;5;241m.\u001b[39mhstack([last_date_f(last_date) \u001b[38;5;28;01mfor\u001b[39;00m last_date \u001b[38;5;129;01min\u001b[39;00m last_dates])\n",
      "File \u001b[1;32m~\\anaconda3\\lib\\site-packages\\neuralforecast\\core.py:107\u001b[0m, in \u001b[0;36m_future_dates.<locals>.<lambda>\u001b[1;34m(x)\u001b[0m\n\u001b[0;32m    105\u001b[0m     last_date_f \u001b[38;5;241m=\u001b[39m \u001b[38;5;28;01mlambda\u001b[39;00m x: np\u001b[38;5;241m.\u001b[39marange(x \u001b[38;5;241m+\u001b[39m \u001b[38;5;241m1\u001b[39m, x \u001b[38;5;241m+\u001b[39m \u001b[38;5;241m1\u001b[39m \u001b[38;5;241m+\u001b[39m h, dtype\u001b[38;5;241m=\u001b[39mlast_dates\u001b[38;5;241m.\u001b[39mdtype)\n\u001b[0;32m    106\u001b[0m \u001b[38;5;28;01melse\u001b[39;00m:\n\u001b[1;32m--> 107\u001b[0m     last_date_f \u001b[38;5;241m=\u001b[39m \u001b[38;5;28;01mlambda\u001b[39;00m x: pd\u001b[38;5;241m.\u001b[39mdate_range(\u001b[43mx\u001b[49m\u001b[43m \u001b[49m\u001b[38;5;241;43m+\u001b[39;49m\u001b[43m \u001b[49m\u001b[43mfreq\u001b[49m, periods\u001b[38;5;241m=\u001b[39mh, freq\u001b[38;5;241m=\u001b[39mfreq)\n\u001b[0;32m    108\u001b[0m \u001b[38;5;28;01mif\u001b[39;00m \u001b[38;5;28mlen\u001b[39m(np\u001b[38;5;241m.\u001b[39munique(last_dates)) \u001b[38;5;241m==\u001b[39m \u001b[38;5;241m1\u001b[39m:\n\u001b[0;32m    109\u001b[0m     dates \u001b[38;5;241m=\u001b[39m np\u001b[38;5;241m.\u001b[39mtile(last_date_f(last_dates[\u001b[38;5;241m0\u001b[39m]), \u001b[38;5;28mlen\u001b[39m(dataset))\n",
      "\u001b[1;31mTypeError\u001b[0m: can only concatenate str (not \"pandas._libs.tslibs.offsets.Day\") to str"
     ]
    }
   ],
   "source": [
    "model.fit(train)\n",
    "\n",
    "p =  model.predict(futr_df=valid).reset_index()\n",
    "p = p.merge(valid[['ds','unique_id', 'y']], on=['ds', 'unique_id'], how='left')"
   ]
  },
  {
   "cell_type": "code",
   "execution_count": null,
   "id": "4d442c9f",
   "metadata": {},
   "outputs": [],
   "source": []
  }
 ],
 "metadata": {
  "kernelspec": {
   "display_name": "Python 3 (ipykernel)",
   "language": "python",
   "name": "python3"
  },
  "language_info": {
   "codemirror_mode": {
    "name": "ipython",
    "version": 3
   },
   "file_extension": ".py",
   "mimetype": "text/x-python",
   "name": "python",
   "nbconvert_exporter": "python",
   "pygments_lexer": "ipython3",
   "version": "3.8.15"
  }
 },
 "nbformat": 4,
 "nbformat_minor": 5
}
